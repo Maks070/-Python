{
 "cells": [
  {
   "cell_type": "markdown",
   "id": "968c8780",
   "metadata": {},
   "source": [
    "# Практическое задание"
   ]
  },
  {
   "cell_type": "markdown",
   "id": "318acf31",
   "metadata": {},
   "source": [
    "# 1Исследуйте на линейную зависимость:\n",
    "\n",
    "𝑓1(𝑥)=𝑒𝑥,𝑓2(𝑥)=1,𝑓3(𝑥)=𝑥+1,𝑓4(𝑥)=𝑥−𝑒𝑥."
   ]
  },
  {
   "cell_type": "code",
   "execution_count": 1,
   "id": "ff9b37b8",
   "metadata": {},
   "outputs": [
    {
     "ename": "SyntaxError",
     "evalue": "invalid character in identifier (<ipython-input-1-a597992303ac>, line 1)",
     "output_type": "error",
     "traceback": [
      "\u001b[1;36m  File \u001b[1;32m\"<ipython-input-1-a597992303ac>\"\u001b[1;36m, line \u001b[1;32m1\u001b[0m\n\u001b[1;33m    𝑥+1 = 𝑥−𝑒𝑥 + 𝑒𝑥 +1\u001b[0m\n\u001b[1;37m             ^\u001b[0m\n\u001b[1;31mSyntaxError\u001b[0m\u001b[1;31m:\u001b[0m invalid character in identifier\n"
     ]
    }
   ],
   "source": [
    "𝑥+1 = 𝑥−𝑒𝑥 + 𝑒𝑥 +1 "
   ]
  },
  {
   "cell_type": "code",
   "execution_count": null,
   "id": "fbd7fa10",
   "metadata": {},
   "outputs": [],
   "source": [
    "𝑓3(𝑥) = 𝑓4(𝑥) + 𝑓1(𝑥) + 𝑓2(𝑥)\n",
    "вектора линейно зависимы"
   ]
  },
  {
   "cell_type": "markdown",
   "id": "006dc5f5",
   "metadata": {},
   "source": [
    "# 2. Исследуйте на линейную зависимость:\n",
    "𝑓1(𝑥)=2,𝑓2(𝑥)=𝑥,𝑓3(𝑥)=𝑥2,𝑓4(𝑥)=(𝑥+1)2\n"
   ]
  },
  {
   "cell_type": "code",
   "execution_count": null,
   "id": "d78efb2b",
   "metadata": {},
   "outputs": [],
   "source": [
    "𝑓4(𝑥) = 𝑓3(𝑥) + 2𝑓2(𝑥) + 1/2𝑓1(𝑥)"
   ]
  },
  {
   "cell_type": "code",
   "execution_count": null,
   "id": "e82f1467",
   "metadata": {},
   "outputs": [],
   "source": [
    "вектора линейно зависимы"
   ]
  },
  {
   "cell_type": "markdown",
   "id": "5bd40f25",
   "metadata": {},
   "source": [
    "3. Найдите координаты вектора  𝑥=(2,3,5)∈ℝ3  в базисе  𝑏1=(0,0,10) ,  𝑏2=(2,0,0) ,  𝑏3=(0,1,0) .# 3. Найдите координаты вектора  𝑥=(2,3,5)∈ℝ3  в базисе  𝑏1=(0,0,10) ,  𝑏2=(2,0,0) ,  𝑏3=(0,1,0) ."
   ]
  },
  {
   "cell_type": "code",
   "execution_count": null,
   "id": "02036d8a",
   "metadata": {},
   "outputs": [],
   "source": [
    "x = 1/2b1 + b2 + 3b3\n",
    "(1/2, 1,3)"
   ]
  },
  {
   "cell_type": "markdown",
   "id": "a5cfdec0",
   "metadata": {},
   "source": [
    "# 4. Найдите координаты вектора  3𝑥2−2𝑥+2∈ℝ3[𝑥] :\n",
    "\n",
    "а) в базисе  1 ,  𝑥 ,  𝑥2 ;\n",
    "\n",
    "б) в базисе  𝑥2 ,  𝑥−1 ,  1 ."
   ]
  },
  {
   "cell_type": "code",
   "execution_count": null,
   "id": "8a6083c3",
   "metadata": {},
   "outputs": [],
   "source": [
    "a) x=2 (1)−2(x )+3( x2)\n",
    "(2 ,−2 ,3)\n"
   ]
  },
  {
   "cell_type": "code",
   "execution_count": null,
   "id": "09826002",
   "metadata": {},
   "outputs": [],
   "source": [
    "б) 3x2 - 2(x-1) +0\n",
    "(3, -2, 0)"
   ]
  },
  {
   "cell_type": "markdown",
   "id": "1317e14d",
   "metadata": {},
   "source": [
    "# Часть 2\n"
   ]
  },
  {
   "cell_type": "markdown",
   "id": "3e6b899b",
   "metadata": {},
   "source": [
    "# 1. Найдите скалярное произведение векторов  𝑥,𝑦∈ℝ :\n",
    "а)  𝑥=(0,−3,6), 𝑦=(−4,7,9); \n",
    "б)  𝑥=(7,−4,0,1), 𝑦=(−3,1,11,2)."
   ]
  },
  {
   "cell_type": "code",
   "execution_count": null,
   "id": "c49a1682",
   "metadata": {},
   "outputs": [],
   "source": [
    "a) ( x , y )=0(−4)+(−3)7+6 (9)=32"
   ]
  },
  {
   "cell_type": "code",
   "execution_count": null,
   "id": "fa9a0caf",
   "metadata": {},
   "outputs": [],
   "source": [
    "б ( x , y )=7⋅(−3)+(−4 )⋅1+0 (11)+1(2)=−23"
   ]
  },
  {
   "cell_type": "markdown",
   "id": "a7f05a99",
   "metadata": {},
   "source": [
    "# Найдите нормы векторов  (4,2,4)  и  (12,3,4)  и угол между ними."
   ]
  },
  {
   "cell_type": "code",
   "execution_count": 5,
   "id": "46b4c407",
   "metadata": {},
   "outputs": [],
   "source": [
    "import numpy as np\n",
    "import math\n",
    "from numpy.linalg import norm\n"
   ]
  },
  {
   "cell_type": "code",
   "execution_count": 6,
   "id": "9a224310",
   "metadata": {},
   "outputs": [],
   "source": [
    "x = np.array([4, 2, 4])\n",
    "y = np.array([12, 3, 4])\n"
   ]
  },
  {
   "cell_type": "code",
   "execution_count": 7,
   "id": "8cf87e03",
   "metadata": {},
   "outputs": [
    {
     "data": {
      "text/plain": [
       "(6.0, 13.0, 26.176952171666557)"
      ]
     },
     "execution_count": 7,
     "metadata": {},
     "output_type": "execute_result"
    }
   ],
   "source": [
    "norm(x), norm(y), math.acos(x.dot(y)/norm(x)/norm(y))*(180/math.pi)"
   ]
  },
  {
   "cell_type": "code",
   "execution_count": null,
   "id": "454338f9",
   "metadata": {},
   "outputs": [],
   "source": [
    "Остальные задачи не успел дорешать. но скину позже"
   ]
  }
 ],
 "metadata": {
  "kernelspec": {
   "display_name": "Python 3",
   "language": "python",
   "name": "python3"
  },
  "language_info": {
   "codemirror_mode": {
    "name": "ipython",
    "version": 3
   },
   "file_extension": ".py",
   "mimetype": "text/x-python",
   "name": "python",
   "nbconvert_exporter": "python",
   "pygments_lexer": "ipython3",
   "version": "3.8.8"
  }
 },
 "nbformat": 4,
 "nbformat_minor": 5
}
