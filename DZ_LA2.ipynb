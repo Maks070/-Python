{
 "cells": [
  {
   "cell_type": "markdown",
   "id": "bc6b4b31",
   "metadata": {},
   "source": [
    "# 1. Установить, какие произведения матриц  AB  и  BA  определены, и найти размерности полученных матриц:\n",
    "\n",
    "а)  A  — матрица  4×2 ,  B  — матрица  4×2 ;\n",
    "\n",
    "б)  A  — матрица  2×5 ,  B  — матрица  5×3 ;\n",
    "\n",
    "в)  A  — матрица  8×3 ,  B  — матрица  3×8 ;\n",
    "\n",
    "г)  A  — квадратная матрица  4×4 ,  B  — квадратная матрица  4×4 ."
   ]
  },
  {
   "cell_type": "code",
   "execution_count": null,
   "id": "e354180a",
   "metadata": {},
   "outputs": [],
   "source": [
    "a)AB  Перемножить нельзя  т.к. число столбцов не равно количеству строк.\n",
    "ВА  Перемножить нельзя  т.к. число столбцов не равно количеству строк."
   ]
  },
  {
   "cell_type": "code",
   "execution_count": null,
   "id": "ef7f3bc3",
   "metadata": {},
   "outputs": [],
   "source": [
    "б) АВ перемножить можно  т.к. число столбцов равно числу строк.\n",
    "ВА перемножить нельзя."
   ]
  },
  {
   "cell_type": "code",
   "execution_count": null,
   "id": "bbe08703",
   "metadata": {},
   "outputs": [],
   "source": [
    "в) АВ можно перемножить. и ВА тоже можно перемножить"
   ]
  },
  {
   "cell_type": "code",
   "execution_count": null,
   "id": "5b7ef729",
   "metadata": {},
   "outputs": [],
   "source": [
    "г) Матрицы квадратные можно перемножить АВ и ВА"
   ]
  },
  {
   "cell_type": "markdown",
   "id": "9ed4e196",
   "metadata": {},
   "source": [
    "# 2Найти сумму и произведение матриц"
   ]
  },
  {
   "cell_type": "code",
   "execution_count": null,
   "id": "4f8d2a38",
   "metadata": {},
   "outputs": [],
   "source": [
    "Сумма матриц\n",
    "5 -3\n",
    "3  5 \n",
    "* не знаю каке тут правильно вписывать матрицы подскажите в коментариях."
   ]
  },
  {
   "cell_type": "code",
   "execution_count": null,
   "id": "90786475",
   "metadata": {},
   "outputs": [],
   "source": [
    "произведение АВ\n",
    "4  -11\n",
    "12  -3"
   ]
  },
  {
   "cell_type": "markdown",
   "id": "a5336059",
   "metadata": {},
   "source": [
    "# 3. 3. Из закономерностей сложения и умножения матриц на число можно сделать вывод, что матрицы одного размера образуют линейное пространство. Вычислить линейную комбинацию 3A−2B+4C для матриц  "
   ]
  },
  {
   "cell_type": "code",
   "execution_count": null,
   "id": "082dd333",
   "metadata": {},
   "outputs": [],
   "source": [
    "11 -5\n",
    "9  -12"
   ]
  },
  {
   "cell_type": "markdown",
   "id": "771bd9ea",
   "metadata": {},
   "source": [
    "# 4. Дана матрица A=.   А(А)т и (а)т (а)"
   ]
  },
  {
   "cell_type": "code",
   "execution_count": null,
   "id": "dcbdab37",
   "metadata": {},
   "outputs": [],
   "source": [
    "А(А)т\n",
    "17 18 11\n",
    "18 29 4\n",
    "11 4 13"
   ]
  },
  {
   "cell_type": "code",
   "execution_count": null,
   "id": "64b2b601",
   "metadata": {},
   "outputs": [],
   "source": [
    " (а)т (а)\n",
    "45 0\n",
    "0  14"
   ]
  },
  {
   "cell_type": "markdown",
   "id": "e1c17372",
   "metadata": {},
   "source": [
    "# Практическое задание Часть 2"
   ]
  },
  {
   "cell_type": "code",
   "execution_count": null,
   "id": "b09e7576",
   "metadata": {},
   "outputs": [],
   "source": [
    "Вычислить определитель:"
   ]
  },
  {
   "cell_type": "code",
   "execution_count": null,
   "id": "2760c36e",
   "metadata": {},
   "outputs": [],
   "source": [
    "а)  1\n",
    "б) 180\n",
    "в)  0 "
   ]
  },
  {
   "cell_type": "code",
   "execution_count": null,
   "id": "6be84578",
   "metadata": {},
   "outputs": [],
   "source": [
    "2. Определитель матрицы  A  равен  4 . Найти:"
   ]
  },
  {
   "cell_type": "code",
   "execution_count": null,
   "id": "13bfe13f",
   "metadata": {},
   "outputs": [],
   "source": [
    "а) det(А2)\n",
    "б) det(AT)\n",
    "в) det(2A)"
   ]
  },
  {
   "cell_type": "code",
   "execution_count": null,
   "id": "01c75d5a",
   "metadata": {},
   "outputs": [],
   "source": [
    "3. Доказать, что матрица вырожденная."
   ]
  },
  {
   "cell_type": "code",
   "execution_count": null,
   "id": "e28acc83",
   "metadata": {},
   "outputs": [],
   "source": [
    "т.к. первая строка  умноженная на -2 равна второй строке, то эти две строки линеной зависимы.\n",
    "это значит что определитель матрицы равен нулю что и озночает что матрица вырожденная"
   ]
  },
  {
   "cell_type": "markdown",
   "id": "e3b0df49",
   "metadata": {},
   "source": [
    "# 4.Найти ранг матрицы:"
   ]
  },
  {
   "cell_type": "code",
   "execution_count": null,
   "id": "68d8c32c",
   "metadata": {},
   "outputs": [],
   "source": [
    "а)  ранг а матрицы равен 2\n",
    "б) ранг матрицы равен 3\n",
    "* почти все считал решая на бумаге. если надо сюда писать полное решение или объяснять решение ответте в коментариях к дз"
   ]
  }
 ],
 "metadata": {
  "kernelspec": {
   "display_name": "Python 3",
   "language": "python",
   "name": "python3"
  },
  "language_info": {
   "codemirror_mode": {
    "name": "ipython",
    "version": 3
   },
   "file_extension": ".py",
   "mimetype": "text/x-python",
   "name": "python",
   "nbconvert_exporter": "python",
   "pygments_lexer": "ipython3",
   "version": "3.8.8"
  }
 },
 "nbformat": 4,
 "nbformat_minor": 5
}
